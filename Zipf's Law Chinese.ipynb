{
 "cells": [
  {
   "cell_type": "code",
   "execution_count": 45,
   "id": "b6db77cb-8193-4fdc-a356-3632c7f6edab",
   "metadata": {},
   "outputs": [],
   "source": [
    "import re #provides support for regular expressions in Python\n",
    "import jieba #a library that is essential for breaking down Chinese text into individual words or phrases\n",
    "import pandas as pd #provides data structures like DataFrame that make working with structured data more convenient.\n",
    "import seaborn as sns #a visualization library based on matplotlib that provides a high-level interface for drawing attractive and informative statistical graphics\n",
    "import matplotlib.pyplot as plt #used for creating static, interactive, and animated visualizations\n",
    "from collections import Counter #particularly useful for counting word frequencies in this case\n",
    "import numpy as np #provides support for large, multi-dimensional arrays and matrices, along with a collection of mathematical functions to operate on these arrays"
   ]
  },
  {
   "cell_type": "code",
   "execution_count": 30,
   "id": "f18c8350-161a-465a-921f-94735460c6a2",
   "metadata": {},
   "outputs": [],
   "source": [
    "def is_chinese_char(char): #  Check if a given character is a Chinese character\n",
    "    return '\\u4e00' <= char <= '\\u9fff' #checks if the input character falls within the Unicode range for Chinese characters\n"
   ]
  },
  {
   "cell_type": "code",
   "execution_count": 31,
   "id": "c66c4a74-75c5-4a27-b647-38165dbdae44",
   "metadata": {},
   "outputs": [],
   "source": [
    "def separate_chinese_english(text): #Separate Chinese and English text from the input\n",
    "    chinese_text = ''.join([char if is_chinese_char(char) else '' for char in text]) #iterate through each character in text. It calls the is_chinese_char function to check if a character is Chinese. If it is, the character is included in chinese_text; otherwise, it's ignored.\n",
    "    english_text = ' '.join(re.findall(r'[a-zA-Z\\']+', text)) #find all sequences of English alphabets (and apostrophes) in text. These sequences are then joined into a single string english_text, separated by spaces.\n",
    "    return chinese_text, english_text #returns two strings: chinese_text containing only Chinese characters and english_text containing only English words"
   ]
  },
  {
   "cell_type": "code",
   "execution_count": 32,
   "id": "1a4eb7d0-c84c-4450-8b20-bef014b21c8f",
   "metadata": {},
   "outputs": [],
   "source": [
    "def tokenize_chinese_text(text): #Tokenize Chinese text using jieba\n",
    "    return jieba.lcut(text) #Uses jieba.lcut method to tokenize the input text into a list of words/phrases and return this list\n"
   ]
  },
  {
   "cell_type": "code",
   "execution_count": 33,
   "id": "611a9d83-fbff-4727-8490-be99be0708fc",
   "metadata": {},
   "outputs": [],
   "source": [
    "file_path = 'lyrics.txt' #sets the variable file_path to the path of the lyrics file\n",
    "with open(file_path, 'r', encoding='utf-8') as file: #Opens the file located at file_path in read mode ('r') with UTF-8 encoding\n",
    "    lyrics = file.read() #Reads the entire content of the file into the string variable"
   ]
  },
  {
   "cell_type": "code",
   "execution_count": 34,
   "id": "a740dc39-13e2-4e49-9ae6-ff314ced02ee",
   "metadata": {},
   "outputs": [],
   "source": [
    "chinese_text, _ = separate_chinese_english(lyrics) #Calls the separate_chinese_english function on lyrics to separate Chinese text\n",
    "chinese_tokens = tokenize_chinese_text(chinese_text) #Tokenizes the chinese_text using tokenize_chinese_text function\n",
    "word_freq = Counter(chinese_tokens) #Creates a Counter object word_freq from the list chinese_tokens. This counts the frequency of each unique word in the list."
   ]
  },
  {
   "cell_type": "code",
   "execution_count": 37,
   "id": "28ac3c43",
   "metadata": {},
   "outputs": [],
   "source": [
    "sns.set_theme(style=\"darkgrid\")\n",
    "# Creating DataFrame with word-frequency data\n",
    "df = pd.DataFrame.from_records(list(dict(Counter(chinese_tokens)).items()), columns=['word','frequency'])"
   ]
  },
  {
   "cell_type": "code",
   "execution_count": 38,
   "id": "8137ed0a",
   "metadata": {},
   "outputs": [
    {
     "data": {
      "text/html": [
       "<div>\n",
       "<style scoped>\n",
       "    .dataframe tbody tr th:only-of-type {\n",
       "        vertical-align: middle;\n",
       "    }\n",
       "\n",
       "    .dataframe tbody tr th {\n",
       "        vertical-align: top;\n",
       "    }\n",
       "\n",
       "    .dataframe thead th {\n",
       "        text-align: right;\n",
       "    }\n",
       "</style>\n",
       "<table border=\"1\" class=\"dataframe\">\n",
       "  <thead>\n",
       "    <tr style=\"text-align: right;\">\n",
       "      <th></th>\n",
       "      <th>word</th>\n",
       "      <th>frequency</th>\n",
       "      <th>rank</th>\n",
       "    </tr>\n",
       "  </thead>\n",
       "  <tbody>\n",
       "    <tr>\n",
       "      <th>6</th>\n",
       "      <td>的</td>\n",
       "      <td>2261</td>\n",
       "      <td>1</td>\n",
       "    </tr>\n",
       "    <tr>\n",
       "      <th>24</th>\n",
       "      <td>我</td>\n",
       "      <td>2179</td>\n",
       "      <td>2</td>\n",
       "    </tr>\n",
       "    <tr>\n",
       "      <th>61</th>\n",
       "      <td>你</td>\n",
       "      <td>1130</td>\n",
       "      <td>3</td>\n",
       "    </tr>\n",
       "    <tr>\n",
       "      <th>26</th>\n",
       "      <td>在</td>\n",
       "      <td>579</td>\n",
       "      <td>4</td>\n",
       "    </tr>\n",
       "    <tr>\n",
       "      <th>52</th>\n",
       "      <td>是</td>\n",
       "      <td>489</td>\n",
       "      <td>5</td>\n",
       "    </tr>\n",
       "    <tr>\n",
       "      <th>...</th>\n",
       "      <td>...</td>\n",
       "      <td>...</td>\n",
       "      <td>...</td>\n",
       "    </tr>\n",
       "    <tr>\n",
       "      <th>4229</th>\n",
       "      <td>电压</td>\n",
       "      <td>1</td>\n",
       "      <td>8328</td>\n",
       "    </tr>\n",
       "    <tr>\n",
       "      <th>4228</th>\n",
       "      <td>艾尼路</td>\n",
       "      <td>1</td>\n",
       "      <td>8329</td>\n",
       "    </tr>\n",
       "    <tr>\n",
       "      <th>4227</th>\n",
       "      <td>三遍</td>\n",
       "      <td>1</td>\n",
       "      <td>8330</td>\n",
       "    </tr>\n",
       "    <tr>\n",
       "      <th>4226</th>\n",
       "      <td>最高</td>\n",
       "      <td>1</td>\n",
       "      <td>8331</td>\n",
       "    </tr>\n",
       "    <tr>\n",
       "      <th>8331</th>\n",
       "      <td>工作勤奋</td>\n",
       "      <td>1</td>\n",
       "      <td>8332</td>\n",
       "    </tr>\n",
       "  </tbody>\n",
       "</table>\n",
       "<p>8332 rows × 3 columns</p>\n",
       "</div>"
      ],
      "text/plain": [
       "      word  frequency  rank\n",
       "6        的       2261     1\n",
       "24       我       2179     2\n",
       "61       你       1130     3\n",
       "26       在        579     4\n",
       "52       是        489     5\n",
       "...    ...        ...   ...\n",
       "4229    电压          1  8328\n",
       "4228   艾尼路          1  8329\n",
       "4227    三遍          1  8330\n",
       "4226    最高          1  8331\n",
       "8331  工作勤奋          1  8332\n",
       "\n",
       "[8332 rows x 3 columns]"
      ]
     },
     "execution_count": 38,
     "metadata": {},
     "output_type": "execute_result"
    }
   ],
   "source": [
    "# Each word gets a rank based on its frequency\n",
    "df = df.sort_values(by=['frequency'], ascending=False)\n",
    "df['rank'] = list(range(1, len(df) + 1))\n",
    "df"
   ]
  },
  {
   "cell_type": "code",
   "execution_count": 39,
   "id": "fe8fb713",
   "metadata": {},
   "outputs": [
    {
     "data": {
      "text/plain": [
       "<seaborn.axisgrid.FacetGrid at 0x115d51870>"
      ]
     },
     "execution_count": 39,
     "metadata": {},
     "output_type": "execute_result"
    },
    {
     "data": {
      "image/png": "[encoded data removed]",
      "text/plain": [
       "<Figure size 500x500 with 1 Axes>"
      ]
     },
     "metadata": {},
     "output_type": "display_data"
    }
   ],
   "source": [
    "g = sns.relplot(x=\"rank\", y=\"frequency\", data=df) #Creates a relational plot using seaborn. This plot will have 'log_rank' on the x-axis and 'log_freq' on the y-axis.\n",
    "g.set(xscale=\"log\")\n",
    "g.set(yscale=\"log\")"
   ]
  },
  {
   "cell_type": "code",
   "execution_count": 40,
   "id": "cb843e83",
   "metadata": {},
   "outputs": [],
   "source": [
    "df['ln_frequency']=np.log(df['frequency'])\n",
    "df['ln_rank']=np.log(df['rank'])"
   ]
  },
  {
   "cell_type": "code",
   "execution_count": 41,
   "id": "94dbd83d",
   "metadata": {},
   "outputs": [],
   "source": [
    "df.to_csv(\"chinese_frequencies.csv\") #We create a csv file to later plot 2 languages on the same graph"
   ]
  },
  {
   "cell_type": "code",
   "execution_count": 42,
   "id": "0dbd5aec",
   "metadata": {},
   "outputs": [],
   "source": [
    "y=df['ln_frequency']\n",
    "x=df['ln_rank']"
   ]
  },
  {
   "cell_type": "code",
   "execution_count": 44,
   "id": "f1af30ac",
   "metadata": {},
   "outputs": [
    {
     "data": {
      "image/png": "[encoded data removed]",
      "text/plain": [
       "<Figure size 640x480 with 1 Axes>"
      ]
     },
     "metadata": {},
     "output_type": "display_data"
    }
   ],
   "source": [
    "fig, ax = plt.subplots()\n",
    "ax.plot(x,y,)\n",
    "plt.title('Zipf\\'s Law Visualization') #Sets the title of the plot to 'Zipf's Law Visualization'.\n",
    "plt.xlabel('Log Rank') #Sets the label for the x-axis to 'Log Rank'.\n",
    "plt.ylabel('Log Frequency') #Sets the label for the y-axis to 'Log Frequency'.\n",
    "plt.show() #Displays the plot"
   ]
  }
 ],
 "metadata": {
  "kernelspec": {
   "display_name": "Python 3 (ipykernel)",
   "language": "python",
   "name": "python3"
  },
  "language_info": {
   "codemirror_mode": {
    "name": "ipython",
    "version": 3
   },
   "file_extension": ".py",
   "mimetype": "text/x-python",
   "name": "python",
   "nbconvert_exporter": "python",
   "pygments_lexer": "ipython3",
   "version": "3.10.7"
  }
 },
 "nbformat": 4,
 "nbformat_minor": 5
}
